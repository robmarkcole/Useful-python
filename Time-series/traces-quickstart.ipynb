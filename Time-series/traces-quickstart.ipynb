{
 "cells": [
  {
   "cell_type": "markdown",
   "metadata": {},
   "source": [
    "https://github.com/datascopeanalytics/traces\n",
    "\n",
    "In traces, a TimeSeries is similar to a dictionary that contains measurements of something at different times. One difference is that you can ask for the value at any time – it doesn’t need to be at a measurement time."
   ]
  },
  {
   "cell_type": "code",
   "execution_count": 1,
   "metadata": {},
   "outputs": [
    {
     "name": "stdout",
     "output_type": "stream",
     "text": [
      "Collecting traces\n",
      "  Downloading traces-0.6.0-py2.py3-none-any.whl (18 kB)\n",
      "Requirement already satisfied: sortedcontainers in /opt/conda/lib/python3.8/site-packages (from traces) (2.3.0)\n",
      "Requirement already satisfied: python-dateutil in /opt/conda/lib/python3.8/site-packages (from traces) (2.8.1)\n",
      "Collecting infinity\n",
      "  Downloading infinity-1.5.tar.gz (5.4 kB)\n",
      "Requirement already satisfied: six>=1.5 in /opt/conda/lib/python3.8/site-packages (from python-dateutil->traces) (1.15.0)\n",
      "Building wheels for collected packages: infinity\n",
      "  Building wheel for infinity (setup.py) ... \u001b[?25ldone\n",
      "\u001b[?25h  Created wheel for infinity: filename=infinity-1.5-py3-none-any.whl size=3080 sha256=33bf984b0cfbf6f5ef608c407dc8dca11f4ca7627fc2979583f7b1029d086143\n",
      "  Stored in directory: /home/jovyan/.cache/pip/wheels/2d/e0/bd/8aa7a68347f9cc20e7f2a4760958a38b821d4f257681de7391\n",
      "Successfully built infinity\n",
      "Installing collected packages: infinity, traces\n",
      "Successfully installed infinity-1.5 traces-0.6.0\n"
     ]
    }
   ],
   "source": [
    "!pip install traces"
   ]
  },
  {
   "cell_type": "code",
   "execution_count": 3,
   "metadata": {},
   "outputs": [],
   "source": [
    "import sys\n",
    "import glob\n",
    "\n",
    "from datetime import datetime, timedelta\n",
    "\n",
    "import traces\n",
    "from traces.utils import datetime_range"
   ]
  },
  {
   "cell_type": "code",
   "execution_count": 4,
   "metadata": {},
   "outputs": [],
   "source": [
    "time_series = traces.TimeSeries()\n",
    "time_series[datetime(2042, 2, 1,  6,  0,  0)] = 0 #  6:00:00am\n",
    "time_series[datetime(2042, 2, 1,  7, 45, 56)] = 1 #  7:45:56am\n",
    "time_series[datetime(2042, 2, 1,  8, 51, 42)] = 0 #  8:51:42am\n",
    "time_series[datetime(2042, 2, 1, 12,  3, 56)] = 1 # 12:03:56am\n",
    "time_series[datetime(2042, 2, 1, 12,  7, 13)] = 0 # 12:07:13am"
   ]
  },
  {
   "cell_type": "markdown",
   "metadata": {},
   "source": [
    "What if you want to know if the light was on at 11am? Unlike a python dictionary, you can look up the value at any time even if it's not one of the measurement times."
   ]
  },
  {
   "cell_type": "code",
   "execution_count": 5,
   "metadata": {},
   "outputs": [
    {
     "data": {
      "text/plain": [
       "0"
      ]
     },
     "execution_count": 5,
     "metadata": {},
     "output_type": "execute_result"
    }
   ],
   "source": [
    "time_series[datetime(2042, 2, 1, 11,  0, 0)] # 11:00am"
   ]
  },
  {
   "cell_type": "markdown",
   "metadata": {},
   "source": [
    "The distribution function gives you the fraction of time that the TimeSeries is in each state."
   ]
  },
  {
   "cell_type": "code",
   "execution_count": 8,
   "metadata": {},
   "outputs": [
    {
     "data": {
      "text/plain": [
       "Histogram({0: 0.8355952380952381, 1: 0.16440476190476191})"
      ]
     },
     "execution_count": 8,
     "metadata": {},
     "output_type": "execute_result"
    }
   ],
   "source": [
    "time_series.distribution(\n",
    "   start=datetime(2042, 2, 1,  6,  0,  0), # 6:00am\n",
    "   end=datetime(2042, 2, 1,  13,  0,  0)   # 1:00pm\n",
    ")"
   ]
  },
  {
   "cell_type": "markdown",
   "metadata": {},
   "source": [
    "The light was on about 16% of the time between 6am and 1pm."
   ]
  },
  {
   "cell_type": "code",
   "execution_count": null,
   "metadata": {},
   "outputs": [],
   "source": []
  }
 ],
 "metadata": {
  "kernelspec": {
   "display_name": "Python 3",
   "language": "python",
   "name": "python3"
  },
  "language_info": {
   "codemirror_mode": {
    "name": "ipython",
    "version": 3
   },
   "file_extension": ".py",
   "mimetype": "text/x-python",
   "name": "python",
   "nbconvert_exporter": "python",
   "pygments_lexer": "ipython3",
   "version": "3.8.6"
  }
 },
 "nbformat": 4,
 "nbformat_minor": 4
}
