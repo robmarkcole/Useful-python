{
 "cells": [
  {
   "cell_type": "markdown",
   "metadata": {},
   "source": [
    "https://towardsdatascience.com/gaining-an-intuition-for-neural-networks-c720b111031f"
   ]
  },
  {
   "cell_type": "code",
   "execution_count": 7,
   "metadata": {},
   "outputs": [
    {
     "name": "stdout",
     "output_type": "stream",
     "text": [
      "final alpha 2.0\n"
     ]
    }
   ],
   "source": [
    "import numpy as np\n",
    "import matplotlib.pyplot as plt\n",
    "\n",
    "x = 2\n",
    "y = x*2\n",
    "\n",
    "learning_rate = 0.1\n",
    "\n",
    "alpha = np.random.randn()\n",
    "alphas = []\n",
    "epochs = 100\n",
    "\n",
    "for i in range(epochs):\n",
    "    pred = alpha * x\n",
    "    loss = np.square((y-pred))\n",
    "    \n",
    "    dloss_dpred = 2*(y-pred)\n",
    "    dpred_dalpha = x\n",
    "    \n",
    "    dloss_dalpha = dloss_dpred * dpred_dalpha # chain rule\n",
    "    \n",
    "    alpha += dloss_dalpha * learning_rate # update alpha\n",
    "    alphas.append(alpha)\n",
    "\n",
    "print(f\"final alpha {alpha}\")"
   ]
  },
  {
   "cell_type": "code",
   "execution_count": 8,
   "metadata": {},
   "outputs": [
    {
     "data": {
      "image/png": "[encoded data removed]",
      "text/plain": [
       "<Figure size 432x288 with 1 Axes>"
      ]
     },
     "metadata": {
      "needs_background": "light"
     },
     "output_type": "display_data"
    }
   ],
   "source": [
    "plt.plot(alphas);"
   ]
  },
  {
   "cell_type": "code",
   "execution_count": null,
   "metadata": {},
   "outputs": [],
   "source": []
  }
 ],
 "metadata": {
  "kernelspec": {
   "display_name": "Python 3",
   "language": "python",
   "name": "python3"
  },
  "language_info": {
   "codemirror_mode": {
    "name": "ipython",
    "version": 3
   },
   "file_extension": ".py",
   "mimetype": "text/x-python",
   "name": "python",
   "nbconvert_exporter": "python",
   "pygments_lexer": "ipython3",
   "version": "3.7.6"
  }
 },
 "nbformat": 4,
 "nbformat_minor": 4
}
