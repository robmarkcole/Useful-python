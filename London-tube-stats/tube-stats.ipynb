{
 "cells": [
  {
   "cell_type": "markdown",
   "metadata": {},
   "source": [
    "https://github.com/robmarkcole/London-tube-status/blob/master/usage.ipynb"
   ]
  },
  {
   "cell_type": "code",
   "execution_count": 1,
   "metadata": {},
   "outputs": [
    {
     "name": "stdout",
     "output_type": "stream",
     "text": [
      "Collecting london-tube-status\n",
      "  Downloading london-tube-status-0.3.tar.gz (3.5 kB)\n",
      "Collecting aiohttp\n",
      "  Downloading aiohttp-3.7.4.post0-cp38-cp38-manylinux2014_x86_64.whl (1.5 MB)\n",
      "\u001b[K     |████████████████████████████████| 1.5 MB 9.1 MB/s eta 0:00:01\n",
      "\u001b[?25hRequirement already satisfied: attrs>=17.3.0 in /opt/conda/lib/python3.8/site-packages (from aiohttp->london-tube-status) (20.3.0)\n",
      "Requirement already satisfied: typing-extensions>=3.6.5 in /opt/conda/lib/python3.8/site-packages (from aiohttp->london-tube-status) (3.7.4.3)\n",
      "Requirement already satisfied: chardet<5.0,>=2.0 in /opt/conda/lib/python3.8/site-packages (from aiohttp->london-tube-status) (3.0.4)\n",
      "Collecting async-timeout<4.0,>=3.0\n",
      "  Downloading async_timeout-3.0.1-py3-none-any.whl (8.2 kB)\n",
      "Collecting multidict<7.0,>=4.5\n",
      "  Downloading multidict-5.1.0-cp38-cp38-manylinux2014_x86_64.whl (159 kB)\n",
      "\u001b[K     |████████████████████████████████| 159 kB 5.8 MB/s eta 0:00:01\n",
      "\u001b[?25hCollecting yarl<2.0,>=1.0\n",
      "  Downloading yarl-1.6.3-cp38-cp38-manylinux2014_x86_64.whl (324 kB)\n",
      "\u001b[K     |████████████████████████████████| 324 kB 11.4 MB/s eta 0:00:01\n",
      "\u001b[?25hRequirement already satisfied: idna>=2.0 in /opt/conda/lib/python3.8/site-packages (from yarl<2.0,>=1.0->aiohttp->london-tube-status) (2.10)\n",
      "Building wheels for collected packages: london-tube-status\n",
      "  Building wheel for london-tube-status (setup.py) ... \u001b[?25ldone\n",
      "\u001b[?25h  Created wheel for london-tube-status: filename=london_tube_status-0.3-py3-none-any.whl size=2255 sha256=f4c1a7c39d4d259e61b4ba3c368d34693fa7a2b1c20a143de2b0c89974efff06\n",
      "  Stored in directory: /home/jovyan/.cache/pip/wheels/43/41/bb/a6297be2983dbf9904adb3e73071b758d3a615d5082202e99f\n",
      "Successfully built london-tube-status\n",
      "Installing collected packages: multidict, yarl, async-timeout, aiohttp, london-tube-status\n",
      "Successfully installed aiohttp-3.7.4.post0 async-timeout-3.0.1 london-tube-status-0.3 multidict-5.1.0 yarl-1.6.3\n"
     ]
    }
   ],
   "source": [
    "!pip install london-tube-status"
   ]
  },
  {
   "cell_type": "code",
   "execution_count": 4,
   "metadata": {},
   "outputs": [],
   "source": [
    "from london_tube_status import TubeData\n",
    "import pprint\n",
    "import aiohttp"
   ]
  },
  {
   "cell_type": "code",
   "execution_count": 5,
   "metadata": {},
   "outputs": [],
   "source": [
    "def print_json(json_data):\n",
    "    pprint.PrettyPrinter().pprint(json_data)"
   ]
  },
  {
   "cell_type": "code",
   "execution_count": 6,
   "metadata": {},
   "outputs": [],
   "source": [
    "async with aiohttp.ClientSession() as session:\n",
    "    tube_data = TubeData(session)\n",
    "    await tube_data.update()"
   ]
  },
  {
   "cell_type": "code",
   "execution_count": 7,
   "metadata": {},
   "outputs": [
    {
     "name": "stdout",
     "output_type": "stream",
     "text": [
      "{'Bakerloo': {'Description': 'Nothing to report', 'State': 'Good Service'},\n",
      " 'Central': {'Description': 'Nothing to report', 'State': 'Good Service'},\n",
      " 'Circle': {'Description': 'Nothing to report', 'State': 'Good Service'},\n",
      " 'DLR': {'Description': 'Nothing to report', 'State': 'Good Service'},\n",
      " 'District': {'Description': 'Nothing to report', 'State': 'Good Service'},\n",
      " 'Hammersmith & City': {'Description': 'Nothing to report',\n",
      "                        'State': 'Good Service'},\n",
      " 'Jubilee': {'Description': 'Nothing to report', 'State': 'Good Service'},\n",
      " 'London Overground': {'Description': 'LONDON OVERGROUND: Until further '\n",
      "                                      'notice, there will be a reduced service '\n",
      "                                      'during peak times on weekday London '\n",
      "                                      'Overground services to and from Bush '\n",
      "                                      'Hill Park and Enfield Town. There will '\n",
      "                                      'now be two trains per hour throughout '\n",
      "                                      'the day in place of the standard four '\n",
      "                                      'trains per hour peak service. The '\n",
      "                                      'following trains will not run: '\n",
      "                                      'Liverpool Street to Enfield Town at '\n",
      "                                      '06:45, 07:15, 07:45, 08:07, 08:45, '\n",
      "                                      '16:15, 16:45, 17:15, 17:45, 18:15 and '\n",
      "                                      '19:22. Enfield Town to Liverpool Street '\n",
      "                                      'at 06:54. 07:24, 07:54, 08:24, 08:54, '\n",
      "                                      '09:24, 17:07, 17:37, 18:07, 18:37 and '\n",
      "                                      '19:07. In addition, trains at 08:00 '\n",
      "                                      'from Liverpool Street to Cheshunt and '\n",
      "                                      'at 08:43 from Cheshunt to Liverpool '\n",
      "                                      'Street will not run. This is due to a '\n",
      "                                      'shortage of staff. *** LONDON '\n",
      "                                      'OVERGROUND: Until further notice, a '\n",
      "                                      'reduced service operates. Two trains '\n",
      "                                      'operate per hour between Richmond and '\n",
      "                                      'Willesden Junction, continuing to '\n",
      "                                      'Stratford. Six trains operate per hour '\n",
      "                                      'between Willesden Junction and '\n",
      "                                      'Stratford, with four of these trains an '\n",
      "                                      'hour operating to/from Clapham '\n",
      "                                      'Junction.',\n",
      "                       'State': 'Reduced Service'},\n",
      " 'Metropolitan': {'Description': 'Nothing to report', 'State': 'Good Service'},\n",
      " 'Northern': {'Description': 'Nothing to report', 'State': 'Good Service'},\n",
      " 'Piccadilly': {'Description': 'Nothing to report', 'State': 'Good Service'},\n",
      " 'TfL Rail': {'Description': 'Nothing to report', 'State': 'Good Service'},\n",
      " 'Victoria': {'Description': 'Nothing to report', 'State': 'Good Service'},\n",
      " 'Waterloo & City': {'Description': 'WATERLOO & CITY LINE: No service until '\n",
      "                                    'further notice.',\n",
      "                     'State': 'Planned Closure'}}\n"
     ]
    }
   ],
   "source": [
    "print_json(tube_data.data)"
   ]
  },
  {
   "cell_type": "code",
   "execution_count": 8,
   "metadata": {},
   "outputs": [
    {
     "data": {
      "text/plain": [
       "'2021-05-07 03:20:04'"
      ]
     },
     "execution_count": 8,
     "metadata": {},
     "output_type": "execute_result"
    }
   ],
   "source": [
    "tube_data.last_updated"
   ]
  },
  {
   "cell_type": "code",
   "execution_count": null,
   "metadata": {},
   "outputs": [],
   "source": []
  }
 ],
 "metadata": {
  "kernelspec": {
   "display_name": "Python 3",
   "language": "python",
   "name": "python3"
  },
  "language_info": {
   "codemirror_mode": {
    "name": "ipython",
    "version": 3
   },
   "file_extension": ".py",
   "mimetype": "text/x-python",
   "name": "python",
   "nbconvert_exporter": "python",
   "pygments_lexer": "ipython3",
   "version": "3.8.6"
  }
 },
 "nbformat": 4,
 "nbformat_minor": 4
}
