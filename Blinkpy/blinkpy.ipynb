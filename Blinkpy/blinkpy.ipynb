{
 "cells": [
  {
   "cell_type": "markdown",
   "metadata": {},
   "source": [
    "https://blinkpy.readthedocs.io/en/latest/README.html\n",
    "\n",
    "Load API secrets from json"
   ]
  },
  {
   "cell_type": "code",
   "execution_count": 1,
   "metadata": {},
   "outputs": [
    {
     "name": "stdout",
     "output_type": "stream",
     "text": [
      "Collecting blinkpy\n",
      "  Downloading blinkpy-0.17.1-py3-none-any.whl (23 kB)\n",
      "Requirement already satisfied: requests>=2.24.0 in /opt/conda/lib/python3.8/site-packages (from blinkpy) (2.25.0)\n",
      "Requirement already satisfied: python-dateutil>=2.8.1 in /opt/conda/lib/python3.8/site-packages (from blinkpy) (2.8.1)\n",
      "Requirement already satisfied: six>=1.5 in /opt/conda/lib/python3.8/site-packages (from python-dateutil>=2.8.1->blinkpy) (1.15.0)\n",
      "Collecting python-slugify>=4.0.1\n",
      "  Downloading python-slugify-4.0.1.tar.gz (11 kB)\n",
      "Requirement already satisfied: urllib3<1.27,>=1.21.1 in /opt/conda/lib/python3.8/site-packages (from requests>=2.24.0->blinkpy) (1.25.11)\n",
      "Requirement already satisfied: idna<3,>=2.5 in /opt/conda/lib/python3.8/site-packages (from requests>=2.24.0->blinkpy) (2.10)\n",
      "Requirement already satisfied: certifi>=2017.4.17 in /opt/conda/lib/python3.8/site-packages (from requests>=2.24.0->blinkpy) (2020.11.8)\n",
      "Requirement already satisfied: chardet<4,>=3.0.2 in /opt/conda/lib/python3.8/site-packages (from requests>=2.24.0->blinkpy) (3.0.4)\n",
      "Collecting text-unidecode>=1.3\n",
      "  Downloading text_unidecode-1.3-py2.py3-none-any.whl (78 kB)\n",
      "\u001b[K     |████████████████████████████████| 78 kB 3.1 MB/s eta 0:00:01\n",
      "\u001b[?25hBuilding wheels for collected packages: python-slugify\n",
      "  Building wheel for python-slugify (setup.py) ... \u001b[?25ldone\n",
      "\u001b[?25h  Created wheel for python-slugify: filename=python_slugify-4.0.1-py2.py3-none-any.whl size=6768 sha256=f88bd35d975e82d5f557d10a00feb5ff7c1bab82fb5d31ea7cbd69e1e2d9564c\n",
      "  Stored in directory: /home/jovyan/.cache/pip/wheels/91/4d/4f/e740a68c215791688c46c4d6251770a570e8dfea91af1acb5c\n",
      "Successfully built python-slugify\n",
      "Installing collected packages: text-unidecode, python-slugify, blinkpy\n",
      "Successfully installed blinkpy-0.17.1 python-slugify-4.0.1 text-unidecode-1.3\n"
     ]
    }
   ],
   "source": [
    "!pip3 install blinkpy"
   ]
  },
  {
   "cell_type": "code",
   "execution_count": 1,
   "metadata": {},
   "outputs": [],
   "source": [
    "import json\n",
    "\n",
    "def load_api_secrets(filename):\n",
    "    \"\"\"Convenience to load the API key from a json file.\"\"\"\n",
    "    try:\n",
    "        with open(filename, 'r') as fp:\n",
    "            api_params = json.load(fp)\n",
    "    except Exception as e:\n",
    "        print('Failed to load API secrets key: {}'.format(e))\n",
    "        api_params = None\n",
    "    return api_params['username'], api_params['password']"
   ]
  },
  {
   "cell_type": "code",
   "execution_count": 2,
   "metadata": {},
   "outputs": [],
   "source": [
    "API_key_filepath = 'blink.json'\n",
    "username, password = load_api_secrets(API_key_filepath)"
   ]
  },
  {
   "cell_type": "code",
   "execution_count": 6,
   "metadata": {},
   "outputs": [],
   "source": [
    "username = 'yours'\n",
    "password = 'yours'"
   ]
  },
  {
   "cell_type": "code",
   "execution_count": 5,
   "metadata": {},
   "outputs": [
    {
     "name": "stderr",
     "output_type": "stream",
     "text": [
      "Login endpoint failed. Try again later.\n",
      "Cannot setup Blink platform.\n"
     ]
    },
    {
     "data": {
      "text/plain": [
       "False"
      ]
     },
     "execution_count": 5,
     "metadata": {},
     "output_type": "execute_result"
    }
   ],
   "source": [
    "from blinkpy.blinkpy import Blink\n",
    "from blinkpy.auth import Auth\n",
    "\n",
    "blink = Blink()\n",
    "\n",
    "auth = Auth({\"username\": username, \"password\": password}, no_prompt=True)\n",
    "blink.auth = auth\n",
    "blink.start()"
   ]
  },
  {
   "cell_type": "code",
   "execution_count": 4,
   "metadata": {},
   "outputs": [
    {
     "data": {
      "text/plain": [
       "{'Living_room': <blinkpy.camera.BlinkCamera at 0x111f5bac8>,\n",
       " 'Kitchen': <blinkpy.camera.BlinkCamera at 0x111170e10>}"
      ]
     },
     "execution_count": 4,
     "metadata": {},
     "output_type": "execute_result"
    }
   ],
   "source": [
    "blink.cameras"
   ]
  },
  {
   "cell_type": "code",
   "execution_count": 5,
   "metadata": {},
   "outputs": [],
   "source": [
    "camera = blink.cameras['Kitchen']"
   ]
  },
  {
   "cell_type": "code",
   "execution_count": 6,
   "metadata": {},
   "outputs": [
    {
     "data": {
      "text/plain": [
       "blinkpy.camera.BlinkCamera"
      ]
     },
     "execution_count": 6,
     "metadata": {},
     "output_type": "execute_result"
    }
   ],
   "source": [
    "type(camera)"
   ]
  },
  {
   "cell_type": "code",
   "execution_count": 7,
   "metadata": {},
   "outputs": [
    {
     "data": {
      "text/plain": [
       "{'name': 'Kitchen',\n",
       " 'camera_id': '242898',\n",
       " 'serial': '671100159',\n",
       " 'temperature': 71,\n",
       " 'temperature_c': 21.7,\n",
       " 'temperature_calibrated': 71,\n",
       " 'battery': 'ok',\n",
       " 'battery_voltage': 172,\n",
       " 'thumbnail': 'https://rest-prde.immedia-semi.com/media/production/account/4314/network/88118/camera/242898/clip_ruWq1_cf_2019_06_20__06_54AM.jpg',\n",
       " 'video': None,\n",
       " 'motion_enabled': True,\n",
       " 'motion_detected': False,\n",
       " 'wifi_strength': -60,\n",
       " 'network_id': 88118,\n",
       " 'sync_module': 'Amberwood',\n",
       " 'last_record': None}"
      ]
     },
     "execution_count": 7,
     "metadata": {},
     "output_type": "execute_result"
    }
   ],
   "source": [
    "camera.attributes"
   ]
  },
  {
   "cell_type": "markdown",
   "metadata": {},
   "source": [
    "We can see the time of the last capture in the thumbnail"
   ]
  },
  {
   "cell_type": "code",
   "execution_count": 8,
   "metadata": {},
   "outputs": [],
   "source": [
    "thumbnail = camera.attributes['thumbnail']"
   ]
  },
  {
   "cell_type": "code",
   "execution_count": 9,
   "metadata": {},
   "outputs": [
    {
     "data": {
      "text/plain": [
       "'019_06_20__06_54AM'"
      ]
     },
     "execution_count": 9,
     "metadata": {},
     "output_type": "execute_result"
    }
   ],
   "source": [
    "thumbnail[-22:-4]"
   ]
  },
  {
   "cell_type": "markdown",
   "metadata": {},
   "source": [
    "Lets trigger another capture"
   ]
  },
  {
   "cell_type": "code",
   "execution_count": 10,
   "metadata": {},
   "outputs": [
    {
     "data": {
      "text/plain": [
       "{'id': 108596898,\n",
       " 'created_at': '2019-06-20T07:03:06+00:00',\n",
       " 'updated_at': '2019-06-20T07:03:06+00:00',\n",
       " 'execute_time': '2019-06-20T07:03:06+00:00',\n",
       " 'command': 'thumbnail',\n",
       " 'state_stage': 'rest',\n",
       " 'stage_rest': '2019-06-20T07:03:06+00:00',\n",
       " 'stage_cs_db': None,\n",
       " 'stage_cs_sent': None,\n",
       " 'stage_sm': None,\n",
       " 'stage_dev': None,\n",
       " 'stage_is': None,\n",
       " 'stage_lv': None,\n",
       " 'stage_vs': None,\n",
       " 'state_condition': 'new',\n",
       " 'sm_ack': None,\n",
       " 'lfr_ack': None,\n",
       " 'sequence': None,\n",
       " 'attempts': 0,\n",
       " 'transaction': '4CIITbcyuntHR6pN',\n",
       " 'player_transaction': 'Os2QdhpymH6Zq6iR',\n",
       " 'server': None,\n",
       " 'duration': None,\n",
       " 'by_whom': '',\n",
       " 'diagnostic': False,\n",
       " 'debug': '',\n",
       " 'target': None,\n",
       " 'target_id': None,\n",
       " 'parent_command_id': None,\n",
       " 'camera_id': 242898,\n",
       " 'siren_id': None,\n",
       " 'firmware_id': None,\n",
       " 'network_id': 88118,\n",
       " 'account_id': 4314,\n",
       " 'sync_module_id': 177751}"
      ]
     },
     "execution_count": 10,
     "metadata": {},
     "output_type": "execute_result"
    }
   ],
   "source": [
    "camera.snap_picture()       # Take a new picture with the camera"
   ]
  },
  {
   "cell_type": "code",
   "execution_count": 11,
   "metadata": {},
   "outputs": [
    {
     "data": {
      "text/plain": [
       "True"
      ]
     },
     "execution_count": 11,
     "metadata": {},
     "output_type": "execute_result"
    }
   ],
   "source": [
    "blink.refresh()             # Get new information from server"
   ]
  },
  {
   "cell_type": "code",
   "execution_count": 12,
   "metadata": {},
   "outputs": [],
   "source": [
    "camera.image_to_file('kitchen_snap.jpg')"
   ]
  },
  {
   "cell_type": "code",
   "execution_count": 13,
   "metadata": {},
   "outputs": [
    {
     "data": {
      "image/jpeg": "[encoded data removed]",
      "text/plain": [
       "<IPython.core.display.Image object>"
      ]
     },
     "execution_count": 13,
     "metadata": {},
     "output_type": "execute_result"
    }
   ],
   "source": [
    "from IPython.display import Image\n",
    "Image(\"kitchen_snap.jpg\")"
   ]
  },
  {
   "cell_type": "markdown",
   "metadata": {},
   "source": [
    "Videos are only created when motion is detected by the official app?"
   ]
  },
  {
   "cell_type": "code",
   "execution_count": 14,
   "metadata": {},
   "outputs": [
    {
     "name": "stderr",
     "output_type": "stream",
     "text": [
      "No saved video exist for Kitchen.\n",
      "NoneType: None\n"
     ]
    }
   ],
   "source": [
    "camera.video_to_file('Kitchen_camera_video.mp4')"
   ]
  },
  {
   "cell_type": "markdown",
   "metadata": {},
   "source": [
    "## Download all videos"
   ]
  },
  {
   "cell_type": "code",
   "execution_count": 18,
   "metadata": {},
   "outputs": [],
   "source": [
    "blink.download_videos('.', since='2018/07/04 09:34')"
   ]
  },
  {
   "cell_type": "code",
   "execution_count": null,
   "metadata": {},
   "outputs": [],
   "source": []
  }
 ],
 "metadata": {
  "kernelspec": {
   "display_name": "Python 3",
   "language": "python",
   "name": "python3"
  },
  "language_info": {
   "codemirror_mode": {
    "name": "ipython",
    "version": 3
   },
   "file_extension": ".py",
   "mimetype": "text/x-python",
   "name": "python",
   "nbconvert_exporter": "python",
   "pygments_lexer": "ipython3",
   "version": "3.8.6"
  }
 },
 "nbformat": 4,
 "nbformat_minor": 4
}
